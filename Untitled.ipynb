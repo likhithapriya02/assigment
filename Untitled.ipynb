{
 "cells": [
  {
   "cell_type": "code",
   "execution_count": 1,
   "id": "48178901",
   "metadata": {},
   "outputs": [
    {
     "name": "stdout",
     "output_type": "stream",
     "text": [
      "Requirement already satisfied: requests in c:\\users\\likhi\\anaconda3\\lib\\site-packages (2.27.1)\n",
      "Requirement already satisfied: certifi>=2017.4.17 in c:\\users\\likhi\\anaconda3\\lib\\site-packages (from requests) (2021.10.8)\n",
      "Requirement already satisfied: idna<4,>=2.5 in c:\\users\\likhi\\anaconda3\\lib\\site-packages (from requests) (3.3)\n",
      "Requirement already satisfied: urllib3<1.27,>=1.21.1 in c:\\users\\likhi\\anaconda3\\lib\\site-packages (from requests) (1.26.9)\n",
      "Requirement already satisfied: charset-normalizer~=2.0.0 in c:\\users\\likhi\\anaconda3\\lib\\site-packages (from requests) (2.0.4)\n",
      "Note: you may need to restart the kernel to use updated packages.\n"
     ]
    }
   ],
   "source": [
    "pip install requests\n"
   ]
  },
  {
   "cell_type": "code",
   "execution_count": 2,
   "id": "a1565c50",
   "metadata": {},
   "outputs": [
    {
     "name": "stdout",
     "output_type": "stream",
     "text": [
      "Requirement already satisfied: bs4 in c:\\users\\likhi\\anaconda3\\lib\\site-packages (0.0.1)\n",
      "Requirement already satisfied: beautifulsoup4 in c:\\users\\likhi\\anaconda3\\lib\\site-packages (from bs4) (4.10.0)\n",
      "Requirement already satisfied: soupsieve>1.2 in c:\\users\\likhi\\anaconda3\\lib\\site-packages (from beautifulsoup4->bs4) (2.3.1)\n",
      "Note: you may need to restart the kernel to use updated packages.\n"
     ]
    }
   ],
   "source": [
    "pip install bs4"
   ]
  },
  {
   "cell_type": "code",
   "execution_count": 3,
   "id": "9f9b2dec",
   "metadata": {},
   "outputs": [
    {
     "ename": "ImportError",
     "evalue": "cannot import name 'Beautifulsoup' from 'bs4' (C:\\Users\\likhi\\anaconda3\\lib\\site-packages\\bs4\\__init__.py)",
     "output_type": "error",
     "traceback": [
      "\u001b[1;31m---------------------------------------------------------------------------\u001b[0m",
      "\u001b[1;31mImportError\u001b[0m                               Traceback (most recent call last)",
      "Input \u001b[1;32mIn [3]\u001b[0m, in \u001b[0;36m<cell line: 2>\u001b[1;34m()\u001b[0m\n\u001b[0;32m      1\u001b[0m \u001b[38;5;28;01mimport\u001b[39;00m \u001b[38;5;21;01mrequests\u001b[39;00m\n\u001b[1;32m----> 2\u001b[0m \u001b[38;5;28;01mfrom\u001b[39;00m \u001b[38;5;21;01mbs4\u001b[39;00m \u001b[38;5;28;01mimport\u001b[39;00m Beautifulsoup\n",
      "\u001b[1;31mImportError\u001b[0m: cannot import name 'Beautifulsoup' from 'bs4' (C:\\Users\\likhi\\anaconda3\\lib\\site-packages\\bs4\\__init__.py)"
     ]
    }
   ],
   "source": [
    "import requests\n",
    "from bs4 import Beautifulsoup"
   ]
  },
  {
   "cell_type": "code",
   "execution_count": 4,
   "id": "6dae03a4",
   "metadata": {},
   "outputs": [],
   "source": [
    "import requests\n",
    "from bs4 import BeautifulSoup"
   ]
  },
  {
   "cell_type": "code",
   "execution_count": 5,
   "id": "e6d744df",
   "metadata": {},
   "outputs": [
    {
     "name": "stdout",
     "output_type": "stream",
     "text": [
      "enter number of pages4\n",
      "phone in page1\n",
      "24\n"
     ]
    },
    {
     "ename": "NameError",
     "evalue": "name 'exchange' is not defined",
     "output_type": "error",
     "traceback": [
      "\u001b[1;31m---------------------------------------------------------------------------\u001b[0m",
      "\u001b[1;31mNameError\u001b[0m                                 Traceback (most recent call last)",
      "Input \u001b[1;32mIn [5]\u001b[0m, in \u001b[0;36m<cell line: 6>\u001b[1;34m()\u001b[0m\n\u001b[0;32m     18\u001b[0m \u001b[38;5;28;01mfor\u001b[39;00m i \u001b[38;5;129;01min\u001b[39;00m price:\n\u001b[0;32m     19\u001b[0m     phn_pri\u001b[38;5;241m.\u001b[39mappend(i\u001b[38;5;241m.\u001b[39mtext)\n\u001b[1;32m---> 20\u001b[0m \u001b[38;5;28;01mfor\u001b[39;00m i \u001b[38;5;129;01min\u001b[39;00m \u001b[43mexchange\u001b[49m:\n\u001b[0;32m     21\u001b[0m     phn_rat\u001b[38;5;241m.\u001b[39mappend(i\u001b[38;5;241m.\u001b[39mtext)\n",
      "\u001b[1;31mNameError\u001b[0m: name 'exchange' is not defined"
     ]
    }
   ],
   "source": [
    "phn_nam=[]\n",
    "phn_pri=[]\n",
    "phn_rat=[]\n",
    "\n",
    "page_num=input(\"enter number of pages\")\n",
    "for i in range(1,int(page_num)+1):\n",
    "    url=\"https://www.flipkart.com/search?q=mobiles&as=on&as-show=on&otracker=AS_Query_TrendingAutoSuggest_1_0_na_na_na&otracker1=AS_Query_TrendingAutoSuggest_1_0_na_na_na&as-pos=1&as-type=TRENDING&suggestionId=mobiles&requestId=9fbbc859-e159-4fb2-b3b7-5b30a0d4b4a7\"+str(i)\n",
    "    req=requests.get(url)\n",
    "    content=BeautifulSoup(req.content,'html.parser')\n",
    "    name=content.find_all('div',{\"class\":\"_4rR01T\"})\n",
    "    price=content.find_all('div',{\"class\":\"_30jeq3 _1_WHN1\"})\n",
    "    rating=content.find_all('div',{\"class\":\"_3LWZlK\"})\n",
    "    print(\"phone in page\"+str(i))\n",
    "    print(len(name))\n",
    "    \n",
    "    for i in name:\n",
    "        phn_nam.append(i.text)\n",
    "    for i in price:\n",
    "        phn_pri.append(i.text)\n",
    "    for i in exchange:\n",
    "        phn_rat.append(i.text)\n",
    "    \n",
    "    "
   ]
  },
  {
   "cell_type": "code",
   "execution_count": null,
   "id": "c769fe05",
   "metadata": {},
   "outputs": [],
   "source": [
    "for i in phn_rat:\n",
    "    print(i)"
   ]
  },
  {
   "cell_type": "code",
   "execution_count": null,
   "id": "8572931c",
   "metadata": {},
   "outputs": [],
   "source": [
    "pip install pandas\n"
   ]
  },
  {
   "cell_type": "code",
   "execution_count": null,
   "id": "5d083528",
   "metadata": {},
   "outputs": [],
   "source": [
    "pip install pandas as pd\n",
    "\n"
   ]
  },
  {
   "cell_type": "code",
   "execution_count": null,
   "id": "332624c1",
   "metadata": {},
   "outputs": [],
   "source": [
    "pip install pandas as pd"
   ]
  },
  {
   "cell_type": "code",
   "execution_count": 7,
   "id": "5d0a8b9a",
   "metadata": {},
   "outputs": [
    {
     "name": "stdout",
     "output_type": "stream",
     "text": [
      "                                     phone name phone price\n",
      "0   Infinix HOT 12 Play (Daylight Green, 64 GB)      ₹8,499\n",
      "1     Infinix HOT 12 Play (Horizon Blue, 64 GB)      ₹8,499\n",
      "2     Infinix HOT 12 Play (Racing Black, 64 GB)      ₹8,499\n",
      "3                                 Cellecor X30i      ₹1,649\n",
      "4              realme C31 (Light Silver, 32 GB)      ₹9,299\n",
      "5                realme C31 (Dark Green, 32 GB)      ₹9,299\n",
      "6                  POCO C31 (Royal Blue, 64 GB)      ₹9,999\n",
      "7            realme C11 2021 (Cool Blue, 32 GB)      ₹7,499\n",
      "8            realme C11 2021 (Cool Grey, 32 GB)      ₹7,499\n",
      "9            realme C11 2021 (Cool Blue, 64 GB)      ₹8,999\n",
      "10           realme C11 2021 (Cool Grey, 64 GB)      ₹8,999\n",
      "11              POCO M3 Pro 5G (Yellow, 128 GB)     ₹16,499\n",
      "12                 POCO C31 (Royal Blue, 32 GB)      ₹8,999\n",
      "13     REDMI Note 10T 5G (Metallic Blue, 64 GB)     ₹11,999\n",
      "14        REDMI Note 10T 5G (Mint Green, 64 GB)     ₹11,999\n",
      "15               realme C31 (Dark Green, 64 GB)      ₹9,999\n",
      "16             realme C31 (Light Silver, 64 GB)      ₹9,999\n",
      "17              MOTOROLA G60 (Moonless, 128 GB)     ₹15,999\n",
      "18    REDMI Note 10T 5G (Graphite Black, 64 GB)     ₹11,999\n",
      "19                POCO C31 (Shadow Gray, 64 GB)      ₹9,599\n",
      "20          MOTOROLA G60 (Dynamic Gray, 128 GB)     ₹15,999\n",
      "21             vivo T1 44W (Starry Sky, 128 GB)     ₹14,499\n",
      "22             vivo T1 44W (Starry Sky, 128 GB)     ₹17,999\n",
      "23             vivo T1 44W (Starry Sky, 128 GB)     ₹15,999\n"
     ]
    }
   ],
   "source": [
    "import pandas as pd\n",
    "data={\"phone name\":phn_nam,\"phone price\":phn_pri}\n",
    "df=pd.DataFrame(data)\n",
    "print(df)"
   ]
  },
  {
   "cell_type": "code",
   "execution_count": null,
   "id": "d6d288ce",
   "metadata": {},
   "outputs": [],
   "source": [
    "for i in phn_exc:\n",
    "    print(i)"
   ]
  },
  {
   "cell_type": "code",
   "execution_count": null,
   "id": "c217da2a",
   "metadata": {},
   "outputs": [],
   "source": [
    "import pandas as pd\n",
    "data={\"phone name\":phn_nam,\"phone price\":phn_pri}\n",
    "df=pd.DataFrame(data)\n",
    "print(df)"
   ]
  },
  {
   "cell_type": "code",
   "execution_count": null,
   "id": "bcb64351",
   "metadata": {},
   "outputs": [],
   "source": [
    "if i in phn_del:\n",
    "    print(i)"
   ]
  },
  {
   "cell_type": "code",
   "execution_count": null,
   "id": "334df604",
   "metadata": {},
   "outputs": [],
   "source": [
    "if i in phn_del:\n",
    "    print(i)"
   ]
  },
  {
   "cell_type": "code",
   "execution_count": null,
   "id": "f59f5250",
   "metadata": {},
   "outputs": [],
   "source": []
  }
 ],
 "metadata": {
  "kernelspec": {
   "display_name": "Python 3 (ipykernel)",
   "language": "python",
   "name": "python3"
  },
  "language_info": {
   "codemirror_mode": {
    "name": "ipython",
    "version": 3
   },
   "file_extension": ".py",
   "mimetype": "text/x-python",
   "name": "python",
   "nbconvert_exporter": "python",
   "pygments_lexer": "ipython3",
   "version": "3.9.12"
  },
  "widgets": {
   "application/vnd.jupyter.widget-state+json": {
    "state": {},
    "version_major": 2,
    "version_minor": 0
   }
  }
 },
 "nbformat": 4,
 "nbformat_minor": 5
}
